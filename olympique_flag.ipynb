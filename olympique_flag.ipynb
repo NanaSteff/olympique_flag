{
 "cells": [
  {
   "cell_type": "code",
   "execution_count": 1,
   "id": "fae0319d",
   "metadata": {},
   "outputs": [],
   "source": [
    "#les 5 anneaux olympiques\n",
    "from tkinter import*   #import the tkinter module for using the graphical interface\n",
    "\n",
    "def drawcircle():                         #fuction to draw circle\n",
    "    i=0                                   #serves as an iteration variable\n",
    "#coordinates of the 5 circles of the flag\n",
    "    cor=[[45,210,145,110,'blue'],         \n",
    "     [150,210,250,110,'black'],\n",
    "     [255,210,355,110,'red'],\n",
    "     [100,280,200,180,'yellow'],\n",
    "     [205,280,305,180,'green']]\n",
    "#loop that takes the coordinates of each circle to apply it with the function that draws a \n",
    "#circle\n",
    "    while i<len(cor):                     \n",
    "        lg=cor[i]                              #variable to assigne each circle coordinate\n",
    "        can1.create_oval(lg[0],lg[1],lg[2],lg[3],width=5,outline=lg[4]) #function to create circle\n",
    "        i=i+1                                   \n",
    "        \n",
    "def clear():\n",
    "    can1.delete(ALL)\n",
    "\n",
    "fen1=Tk()                                                 #instantiating a window gadget\n",
    "can1=Canvas(fen1, bg='white', height=310, width=400)     #creating a canvas in which we will draw\n",
    "can1.pack()\n",
    "bou1=Button(fen1, text='Afficher drapeau', command=drawcircle) #button to print the circles in the flag\n",
    "bou1.pack()\n",
    "bou2=Button(fen1, text='Effacer tout', command=clear)    #button to remove the circle\n",
    "bou2.pack()\n",
    "bou3=Button(fen1, text='Quitter', command=fen1.destroy)   #button to leave the window gadget\n",
    "bou3.pack()\n",
    "fen1.mainloop()               #command to turn on the window gadget"
   ]
  },
  {
   "cell_type": "code",
   "execution_count": null,
   "id": "260d2e17",
   "metadata": {},
   "outputs": [],
   "source": []
  }
 ],
 "metadata": {
  "kernelspec": {
   "display_name": "Python 3 (ipykernel)",
   "language": "python",
   "name": "python3"
  },
  "language_info": {
   "codemirror_mode": {
    "name": "ipython",
    "version": 3
   },
   "file_extension": ".py",
   "mimetype": "text/x-python",
   "name": "python",
   "nbconvert_exporter": "python",
   "pygments_lexer": "ipython3",
   "version": "3.10.6"
  }
 },
 "nbformat": 4,
 "nbformat_minor": 5
}
